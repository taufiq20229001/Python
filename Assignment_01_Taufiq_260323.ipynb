{
  "nbformat": 4,
  "nbformat_minor": 0,
  "metadata": {
    "colab": {
      "provenance": [],
      "authorship_tag": "ABX9TyObs/nWB13gfCr/KCeto3t7",
      "include_colab_link": true
    },
    "kernelspec": {
      "name": "python3",
      "display_name": "Python 3"
    },
    "language_info": {
      "name": "python"
    }
  },
  "cells": [
    {
      "cell_type": "markdown",
      "metadata": {
        "id": "view-in-github",
        "colab_type": "text"
      },
      "source": [
        "<a href=\"https://colab.research.google.com/github/taufiq20229001/Python/blob/main/Assignment_01_Taufiq_260323.ipynb\" target=\"_parent\"><img src=\"https://colab.research.google.com/assets/colab-badge.svg\" alt=\"Open In Colab\"/></a>"
      ]
    },
    {
      "cell_type": "markdown",
      "source": [
        "# Md Taufiq us Samad Tonmoy\n",
        "**ID: 20229001**"
      ],
      "metadata": {
        "id": "VQw0M9UBzWsv"
      }
    },
    {
      "cell_type": "markdown",
      "source": [
        "1. Write a Python program to count the number of characters (character frequency) in a string. Sample String : google.com Expected Result : {'o': 3, 'g': 2, '.': 1, 'e': 1, 'l': 1, 'm': 1, 'c': 1}"
      ],
      "metadata": {
        "id": "_dmbOBKd0BgH"
      }
    },
    {
      "cell_type": "code",
      "source": [
        "string = \"facebook.com\"\n",
        "char_freq = {}\n",
        "\n",
        "for char in string:\n",
        "    if char in char_freq:\n",
        "        char_freq[char] += 1\n",
        "    else:\n",
        "        char_freq[char] = 1\n",
        "\n",
        "print(char_freq)"
      ],
      "metadata": {
        "colab": {
          "base_uri": "https://localhost:8080/"
        },
        "id": "H8sxkJmq0SRl",
        "outputId": "f8ec9f27-03b6-4867-8fb4-1e7605acde7d"
      },
      "execution_count": null,
      "outputs": [
        {
          "output_type": "stream",
          "name": "stdout",
          "text": [
            "{'f': 1, 'a': 1, 'c': 2, 'e': 1, 'b': 1, 'o': 3, 'k': 1, '.': 1, 'm': 1}\n"
          ]
        }
      ]
    },
    {
      "cell_type": "markdown",
      "source": [
        "2. Write a Python program to check if a given key already exists in a dictionary."
      ],
      "metadata": {
        "id": "2K8u5ng20nHV"
      }
    },
    {
      "cell_type": "code",
      "source": [
        "# Sample dictionary\n",
        "my_dict = {'name': 'Pinky', 'age': 22, 'gender': 'Female'}\n",
        "\n",
        "# Key to check\n",
        "key = 'name'\n",
        "\n",
        "# Check if key exists in the dictionary\n",
        "if key in my_dict:\n",
        "    print(f\"The key '{key}' already exists in the dictionary.\")\n",
        "else:\n",
        "    print(f\"The key '{key}' does not exist in the dictionary.\")"
      ],
      "metadata": {
        "colab": {
          "base_uri": "https://localhost:8080/"
        },
        "id": "md-Subho0pUE",
        "outputId": "3165a48b-5e8f-4a29-e258-9b33da5afb01"
      },
      "execution_count": null,
      "outputs": [
        {
          "output_type": "stream",
          "name": "stdout",
          "text": [
            "The key 'name' already exists in the dictionary.\n"
          ]
        }
      ]
    },
    {
      "cell_type": "markdown",
      "source": [
        "3. Write a Python program that accepts a sequence of comma-separated numbers from the user and generates a list and a tuple of those numbers. Sample data : 1, 5, 7, 23 Expected Output : List : ['1', ' 5', ' 7', ' 23'] Tuple : ('1', ' 5', ' 7', ' 23’)"
      ],
      "metadata": {
        "id": "ryVfLIzf1FZk"
      }
    },
    {
      "cell_type": "code",
      "source": [
        "# Accept comma-separated input from the user\n",
        "input_str = input(\"Enter comma-separated numbers: \")\n",
        "\n",
        "# Split the input string into a list of numbers\n",
        "num_list = input_str.split(\",\")\n",
        "\n",
        "# Create a tuple of the same numbers\n",
        "num_tuple = tuple(num_list)\n",
        "\n",
        "# Print the list and tuple\n",
        "print(f\"List: {num_list}\")\n",
        "print(f\"Tuple: {num_tuple}\")"
      ],
      "metadata": {
        "colab": {
          "base_uri": "https://localhost:8080/"
        },
        "id": "EQs5emwQ1ORf",
        "outputId": "60c58d6b-3998-405a-c6eb-d778525a52d4"
      },
      "execution_count": null,
      "outputs": [
        {
          "output_type": "stream",
          "name": "stdout",
          "text": [
            "Enter comma-separated numbers: 11, 25, 7\n",
            "List: ['11', ' 25', ' 7']\n",
            "Tuple: ('11', ' 25', ' 7')\n"
          ]
        }
      ]
    },
    {
      "cell_type": "markdown",
      "source": [
        "4. Write a Python program to calculate the number of days between two dates. Sample dates : (2014, 7, 2), (2014, 7, 11) Expected output : 9 days"
      ],
      "metadata": {
        "id": "zGTUZgUgkWgR"
      }
    },
    {
      "cell_type": "code",
      "source": [
        "from datetime import date\n",
        "\n",
        "# Define the two dates as tuples\n",
        "date1 = date(2022, 6, 3)\n",
        "date2 = date(2022, 6, 11)\n",
        "\n",
        "# Calculate the difference between the two dates\n",
        "delta = date2 - date1\n",
        "\n",
        "# Print the number of days\n",
        "print(f\"{delta.days} days\")"
      ],
      "metadata": {
        "colab": {
          "base_uri": "https://localhost:8080/"
        },
        "id": "VztJ3O1dkb3o",
        "outputId": "8eb342fb-c5bc-4d27-c97c-4ccc732a4033"
      },
      "execution_count": null,
      "outputs": [
        {
          "output_type": "stream",
          "name": "stdout",
          "text": [
            "8 days\n"
          ]
        }
      ]
    },
    {
      "cell_type": "markdown",
      "source": [
        "5. Write a Python program to solve (x + y) * (x + y). Test Data : x = 4, y = 3 Expected Output : ((4+3) ^ 2) = 49."
      ],
      "metadata": {
        "id": "oU1iUz2MktGx"
      }
    },
    {
      "cell_type": "code",
      "source": [
        "# Define the values of x and y\n",
        "x = 5\n",
        "y = 2\n",
        "\n",
        "# Evaluate the expression (x + y) * (x + y)\n",
        "result = (x + y) * (x + y)\n",
        "\n",
        "# Print the result\n",
        "print(f\"({x} + {y}) ^ 2 = {result}\")"
      ],
      "metadata": {
        "colab": {
          "base_uri": "https://localhost:8080/"
        },
        "id": "NjpMXmOpkyTx",
        "outputId": "da85ed7f-5cf9-4b04-c748-dec97044aabe"
      },
      "execution_count": null,
      "outputs": [
        {
          "output_type": "stream",
          "name": "stdout",
          "text": [
            "(5 + 2) ^ 2 = 49\n"
          ]
        }
      ]
    },
    {
      "cell_type": "markdown",
      "source": [
        "6. Write a Python program to compute the future value of a specified principal amount, rate of interest, and number of years. Test Data : amt = 10000, int = 3.5, years = 7 Expected Output : 12722"
      ],
      "metadata": {
        "id": "KFoyrAyYntdK"
      }
    },
    {
      "cell_type": "code",
      "source": [
        "# Define the principal amount, rate of interest, and number of years\n",
        "amt = 10000\n",
        "int_rate = 3.5\n",
        "years = 7\n",
        "\n",
        "# Calculate the future value using the formula: FV = PV * (1 + r/100)^n\n",
        "fv = amt * (1 + int_rate/100)**years\n",
        "\n",
        "# Print the future value\n",
        "print(f\"Future value: {round(fv, 2)}\")"
      ],
      "metadata": {
        "colab": {
          "base_uri": "https://localhost:8080/"
        },
        "id": "NG3HIJWMn7sJ",
        "outputId": "5fbfd211-5082-47e0-d516-98e6700aa049"
      },
      "execution_count": null,
      "outputs": [
        {
          "output_type": "stream",
          "name": "stdout",
          "text": [
            "Future value: 12722.79\n"
          ]
        }
      ]
    },
    {
      "cell_type": "markdown",
      "source": [
        "7. Write a Python program that removes duplicate elements from a given array of numbers so that each element appears only once and returns the new length of the array. Sample Input: [0,0,1,1,2,2,3,3,4,4,4] Sample Output: The list of unique numbers: [0,1,2,3,4] length of the unique list : 5"
      ],
      "metadata": {
        "id": "csv5i_PkoJnN"
      }
    },
    {
      "cell_type": "code",
      "source": [
        "# Define the input array\n",
        "arr = [0, 0, 1, 1, 2, 2, 3, 3, 4, 4, 4, 5, 5, 5, 5, 6]\n",
        "\n",
        "# Create a set from the input array to remove duplicates\n",
        "unique_set = set(arr)\n",
        "\n",
        "# Convert the set back to a list to preserve the order of the elements\n",
        "unique_list = list(unique_set)\n",
        "\n",
        "# Print the list of unique numbers and its length\n",
        "print(f\"The list of unique numbers: {unique_list}\")\n",
        "print(f\"Length of the unique list: {len(unique_list)}\")"
      ],
      "metadata": {
        "colab": {
          "base_uri": "https://localhost:8080/"
        },
        "id": "qfWdjAlYsb97",
        "outputId": "612078b6-321f-4662-bd3d-decacd6f5c59"
      },
      "execution_count": null,
      "outputs": [
        {
          "output_type": "stream",
          "name": "stdout",
          "text": [
            "The list of unique numbers: [0, 1, 2, 3, 4, 5, 6]\n",
            "Length of the unique list: 7\n"
          ]
        }
      ]
    },
    {
      "cell_type": "markdown",
      "source": [
        "8. Write a Python program to sort (ascending and descending) a dictionary by key value."
      ],
      "metadata": {
        "id": "WWCvpb23suRq"
      }
    },
    {
      "cell_type": "code",
      "source": [
        "# Define the input dictionary\n",
        "my_dict = {'apple': 3, 'banana': 2, 'orange': 1, 'pear': 0}\n",
        "\n",
        "# Sort the dictionary by key in ascending order\n",
        "sorted_dict_desc = dict(sorted(my_dict.items()))\n",
        "\n",
        "# Sort the dictionary by key in descending order\n",
        "sorted_dict_asc = dict(sorted(my_dict.items(), reverse=True))\n",
        "\n",
        "# Print the sorted dictionaries\n",
        "print(\"Sorted dictionary by key in ascending order:\", sorted_dict_asc)\n",
        "print(\"Sorted dictionary by key in descending order:\", sorted_dict_desc)"
      ],
      "metadata": {
        "colab": {
          "base_uri": "https://localhost:8080/"
        },
        "id": "yCU0BE9Osyob",
        "outputId": "de070e13-b654-47d9-f6c2-5c6381c40b99"
      },
      "execution_count": null,
      "outputs": [
        {
          "output_type": "stream",
          "name": "stdout",
          "text": [
            "Sorted dictionary by key in ascending order: {'pear': 0, 'orange': 1, 'banana': 2, 'apple': 3}\n",
            "Sorted dictionary by key in descending order: {'apple': 3, 'banana': 2, 'orange': 1, 'pear': 0}\n"
          ]
        }
      ]
    },
    {
      "cell_type": "markdown",
      "source": [
        "9. Write a Python program to add key to a dictionary. Go to the editor Sample Dictionary : {0: 10, 1: 20} Expected Result : {0: 10, 1: 20, 2: 30}"
      ],
      "metadata": {
        "id": "EYMmc5vUtYUM"
      }
    },
    {
      "cell_type": "code",
      "source": [
        "# Define the input dictionary\n",
        "my_dict = {0: 10, 1: 20}\n",
        "\n",
        "# Add a new key-value pair to the dictionary\n",
        "my_dict[2] = 30\n",
        "my_dict[3] = 40\n",
        "\n",
        "# Print the updated dictionary\n",
        "print(\"Updated dictionary:\", my_dict)"
      ],
      "metadata": {
        "colab": {
          "base_uri": "https://localhost:8080/"
        },
        "id": "IRjpa_9Ltevz",
        "outputId": "1df46f5f-24a9-4698-ea2d-21397af23219"
      },
      "execution_count": null,
      "outputs": [
        {
          "output_type": "stream",
          "name": "stdout",
          "text": [
            "Updated dictionary: {0: 10, 1: 20, 2: 30, 3: 40}\n"
          ]
        }
      ]
    },
    {
      "cell_type": "markdown",
      "source": [
        "10. Write a Pandas program to create and display a DataFrame from a specified dictionary data which has the index labels. Sample Python dictionary data and list labels: exam_data = {'name': ['Arif', 'Asir', 'Arik', 'Anis', 'Anil', 'Ashish', 'Anahi', 'Alia', 'Alvin', 'Asim'], 'score': [12.5, 9, 16.5, np.nan, 9, 20, 14.5, np.nan, 8, 19], 'attempts': [1, 3, 2, 3, 2, 3, 1, 1, 2, 1], 'qualify': ['yes', 'no', 'yes', 'no', 'no', 'yes', 'yes', 'no', 'no', 'yes']} labels = ['a', 'b', 'c', 'd', 'e', 'f', 'g', 'h', 'i',’j’]"
      ],
      "metadata": {
        "id": "xGF4JTrHtsvj"
      }
    },
    {
      "cell_type": "code",
      "source": [
        "import pandas as pd\n",
        "import numpy as np\n",
        "\n",
        "# Define the dictionary data\n",
        "exam_data = {'name': ['Arif', 'Asir', 'Arik', 'Anis', 'Anil', 'Ashish', 'Anahi', 'Alia', 'Alvin', 'Asim'],\n",
        "             'score': [12.5, 9, 16.5, np.nan, 9, 20, 14.5, np.nan, 8, 19],\n",
        "             'attempts': [1, 3, 2, 3, 2, 3, 1, 1, 2, 1],\n",
        "             'qualify': ['yes', 'no', 'yes', 'no', 'no', 'yes', 'yes', 'no', 'no', 'yes']}\n",
        "\n",
        "# Define the index labels\n",
        "labels = ['a', 'b', 'c', 'd', 'e', 'f', 'g', 'h', 'i', 'j']\n",
        "\n",
        "# Create the DataFrame\n",
        "df = pd.DataFrame(exam_data, index=labels)\n",
        "\n",
        "# Display the DataFrame\n",
        "print(df)"
      ],
      "metadata": {
        "id": "KUhtSjENt_qi",
        "outputId": "e5fc56b5-c513-4047-9b93-9bf5825c66e2",
        "colab": {
          "base_uri": "https://localhost:8080/"
        }
      },
      "execution_count": null,
      "outputs": [
        {
          "output_type": "stream",
          "name": "stdout",
          "text": [
            "     name  score  attempts qualify\n",
            "a    Arif   12.5         1     yes\n",
            "b    Asir    9.0         3      no\n",
            "c    Arik   16.5         2     yes\n",
            "d    Anis    NaN         3      no\n",
            "e    Anil    9.0         2      no\n",
            "f  Ashish   20.0         3     yes\n",
            "g   Anahi   14.5         1     yes\n",
            "h    Alia    NaN         1      no\n",
            "i   Alvin    8.0         2      no\n",
            "j    Asim   19.0         1     yes\n"
          ]
        }
      ]
    }
  ]
}